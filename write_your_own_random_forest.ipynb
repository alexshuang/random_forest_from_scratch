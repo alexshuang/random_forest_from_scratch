{
  "nbformat": 4,
  "nbformat_minor": 0,
  "metadata": {
    "colab": {
      "name": "Write_your_own_random_forest_public.ipynb",
      "version": "0.3.2",
      "provenance": [],
      "collapsed_sections": []
    },
    "kernelspec": {
      "name": "python3",
      "display_name": "Python 3"
    },
    "accelerator": "GPU"
  },
  "cells": [
    {
      "metadata": {
        "id": "ZYiTGTBEOOF6",
        "colab_type": "text"
      },
      "cell_type": "markdown",
      "source": [
        "## Write Your Own Random Forest"
      ]
    },
    {
      "metadata": {
        "id": "YoYywPwk0hgp",
        "colab_type": "code",
        "colab": {}
      },
      "cell_type": "code",
      "source": [
        "!pip install -q fastai==0.7.0 torchtext==0.2.3"
      ],
      "execution_count": 0,
      "outputs": []
    },
    {
      "metadata": {
        "id": "T8-qFrt9OOGB",
        "colab_type": "code",
        "colab": {}
      },
      "cell_type": "code",
      "source": [
        "%load_ext autoreload\n",
        "%autoreload 2\n",
        "%matplotlib inline\n",
        "\n",
        "from fastai.imports import *\n",
        "from fastai.structured import *\n",
        "from sklearn.ensemble import RandomForestRegressor\n",
        "from sklearn.model_selection import train_test_split"
      ],
      "execution_count": 0,
      "outputs": []
    },
    {
      "metadata": {
        "id": "EY4tfdhWOOGJ",
        "colab_type": "code",
        "colab": {}
      },
      "cell_type": "code",
      "source": [
        "PATH = Path(\"data/house_price/\")\n",
        "os.makedirs(PATH, exist_ok=True)"
      ],
      "execution_count": 0,
      "outputs": []
    },
    {
      "metadata": {
        "id": "amJcqePlOOGL",
        "colab_type": "code",
        "colab": {}
      },
      "cell_type": "code",
      "source": [
        "!kaggle competitions download -c house-prices-advanced-regression-techniques -p {PATH}"
      ],
      "execution_count": 0,
      "outputs": []
    },
    {
      "metadata": {
        "id": "blhqSk3KvF9m",
        "colab_type": "text"
      },
      "cell_type": "markdown",
      "source": [
        "## Single Tree"
      ]
    },
    {
      "metadata": {
        "id": "u4uM6g9mvLJI",
        "colab_type": "text"
      },
      "cell_type": "markdown",
      "source": [
        "### Only 2 columns"
      ]
    },
    {
      "metadata": {
        "id": "VmRvfwndFVrn",
        "colab_type": "code",
        "outputId": "b018ec7b-f085-4ddb-fdd9-c02c0ce51753",
        "colab": {
          "base_uri": "https://localhost:8080/",
          "height": 34
        }
      },
      "cell_type": "code",
      "source": [
        "train_df = pd.read_csv(PATH/'train.csv')\n",
        "y = np.log1p(train_df.SalePrice).values\n",
        "x = train_df[['OverallQual', 'GrLivArea']].copy()\n",
        "trn_x, val_x, trn_y, val_y = train_test_split(x, y, test_size=0.3)\n",
        "len(trn_x), len(trn_y), len(val_x), len(val_y)"
      ],
      "execution_count": 0,
      "outputs": [
        {
          "output_type": "execute_result",
          "data": {
            "text/plain": [
              "(1022, 1022, 438, 438)"
            ]
          },
          "metadata": {
            "tags": []
          },
          "execution_count": 162
        }
      ]
    },
    {
      "metadata": {
        "id": "f5lDv69TTdnk",
        "colab_type": "code",
        "colab": {}
      },
      "cell_type": "code",
      "source": [
        "n = 1000\n",
        "trn_x, trn_y = trn_x[:n], trn_y[:n]"
      ],
      "execution_count": 0,
      "outputs": []
    },
    {
      "metadata": {
        "id": "mzRRsZ9eCBW7",
        "colab_type": "code",
        "colab": {}
      },
      "cell_type": "code",
      "source": [
        "class RandomForest():\n",
        "  def __init__(self, x, y, nr_trees, sample_sz=1000):\n",
        "    self.x, self.y, self.nr_trees, self.sample_sz = x, y, nr_trees, sample_sz\n",
        "    self.trees = [self.create_tree() for _ in range(nr_trees)]\n",
        "  \n",
        "  def create_tree(self):\n",
        "    idxs = np.random.permutation(len(self.x))[:self.sample_sz]\n",
        "    return DecisionTree(self.x.iloc[idxs], self.y[idxs], min_leaf=5)"
      ],
      "execution_count": 0,
      "outputs": []
    },
    {
      "metadata": {
        "colab_type": "code",
        "id": "JOsYMWSlQca2",
        "colab": {}
      },
      "cell_type": "code",
      "source": [
        "class DecisionTree():\n",
        "  def __init__(self, x, y, idxs=None, min_leaf=1):\n",
        "    if idxs is None: idxs = np.arange(len(x))\n",
        "    self.x, self.y, self.min_leaf, self.idxs = x.reset_index(drop=True), y, min_leaf, idxs\n",
        "    self.n, self.c = len(idxs), x.shape[1]\n",
        "    self.val = self.y[idxs].mean()\n",
        "    self.score = float('inf')\n",
        "    self.find_split()\n",
        "  \n",
        "  def find_split(self):\n",
        "    for c in range(self.c):\n",
        "      self.find_better_split(c)\n",
        "  \n",
        "  def find_better_split(self, var_idx):\n",
        "    x, y = self.x.iloc[self.idxs, var_idx].values, self.y[self.idxs]\n",
        "    for i in range(self.n - self.min_leaf):\n",
        "      l_idxs = (x <= x[i])\n",
        "      r_idxs = x > x[i]\n",
        "      if r_idxs.sum() == 0: continue\n",
        "      l_std = y[l_idxs].std()\n",
        "      r_std = y[r_idxs].std()\n",
        "      score = l_std * l_idxs.sum() + r_std * r_idxs.sum()\n",
        "      if score < self.score:\n",
        "        self.score, self.var_idx, self.split_val = score, var_idx, x[i]\n",
        "        \n",
        "  @property\n",
        "  def split_var(self): return self.x.columns[self.var_idx]\n",
        "  \n",
        "  @property\n",
        "  def is_leaf(self): return self.score == float('inf')\n",
        "  \n",
        "  def __repr__(self):\n",
        "    txt = f'samples: {self.n}, value: {self.val}, score: {self.score}, '\n",
        "    if not self.is_leaf:\n",
        "      txt += f'split variable: {self.split_var}, split value: {self.split_val}'\n",
        "    return txt"
      ],
      "execution_count": 0,
      "outputs": []
    },
    {
      "metadata": {
        "id": "-eci_LloCBc4",
        "colab_type": "code",
        "outputId": "ea3697f3-5882-4efc-ceab-9988fd45d1f2",
        "colab": {
          "base_uri": "https://localhost:8080/",
          "height": 50
        }
      },
      "cell_type": "code",
      "source": [
        "rf = RandomForest(trn_x, trn_y, 1)\n",
        "print(rf.trees[0])\n",
        "%timeit RandomForest(trn_x, trn_y, 1)"
      ],
      "execution_count": 0,
      "outputs": [
        {
          "output_type": "stream",
          "text": [
            "samples: 1000, value: 12.030368441695023, score: 288.68995409377146, split variable: OverallQual, split value: 6\n",
            "10 loops, best of 3: 133 ms per loop\n"
          ],
          "name": "stdout"
        }
      ]
    },
    {
      "metadata": {
        "id": "kwWdA_SE8WCA",
        "colab_type": "code",
        "outputId": "f20075da-179a-468c-bf04-30d312f7d536",
        "colab": {
          "base_uri": "https://localhost:8080/",
          "height": 240
        }
      },
      "cell_type": "code",
      "source": [
        "m = RandomForestRegressor(n_estimators=1, max_depth=1, bootstrap=False)\n",
        "m.fit(trn_x, trn_y)\n",
        "draw_tree(m.estimators_[0], trn_x, precision=3)"
      ],
      "execution_count": 0,
      "outputs": [
        {
          "output_type": "display_data",
          "data": {
            "text/plain": [
              "<graphviz.files.Source at 0x7f7110c7ac18>"
            ],
            "image/svg+xml": "<?xml version=\"1.0\" encoding=\"UTF-8\" standalone=\"no\"?>\n<!DOCTYPE svg PUBLIC \"-//W3C//DTD SVG 1.1//EN\"\n \"http://www.w3.org/Graphics/SVG/1.1/DTD/svg11.dtd\">\n<!-- Generated by graphviz version 2.40.1 (20161225.0304)\n -->\n<!-- Title: Tree Pages: 1 -->\n<svg width=\"268pt\" height=\"164pt\"\n viewBox=\"0.00 0.00 268.00 164.00\" xmlns=\"http://www.w3.org/2000/svg\" xmlns:xlink=\"http://www.w3.org/1999/xlink\">\n<g id=\"graph0\" class=\"graph\" transform=\"scale(1 1) rotate(0) translate(4 160)\">\n<title>Tree</title>\n<polygon fill=\"#ffffff\" stroke=\"transparent\" points=\"-4,4 -4,-160 264,-160 264,4 -4,4\"/>\n<!-- 0 -->\n<g id=\"node1\" class=\"node\">\n<title>0</title>\n<polygon fill=\"#e58139\" fill-opacity=\"0.384314\" stroke=\"#000000\" points=\"120,-111.3387 0,-111.3387 0,-43.3387 120,-43.3387 120,-111.3387\"/>\n<text text-anchor=\"start\" x=\"8\" y=\"-96.1387\" font-family=\"Times,serif\" font-size=\"14.00\" fill=\"#000000\">OverallQual ≤ 6.5</text>\n<text text-anchor=\"start\" x=\"23.5\" y=\"-81.1387\" font-family=\"Times,serif\" font-size=\"14.00\" fill=\"#000000\">mse = 0.162</text>\n<text text-anchor=\"start\" x=\"14.5\" y=\"-66.1387\" font-family=\"Times,serif\" font-size=\"14.00\" fill=\"#000000\">samples = 1000</text>\n<text text-anchor=\"start\" x=\"19.5\" y=\"-51.1387\" font-family=\"Times,serif\" font-size=\"14.00\" fill=\"#000000\">value = 12.03</text>\n</g>\n<!-- 1 -->\n<g id=\"node2\" class=\"node\">\n<title>1</title>\n<polygon fill=\"transparent\" stroke=\"#000000\" points=\"260,-148.8387 156,-148.8387 156,-95.8387 260,-95.8387 260,-148.8387\"/>\n<text text-anchor=\"start\" x=\"171.5\" y=\"-133.6387\" font-family=\"Times,serif\" font-size=\"14.00\" fill=\"#000000\">mse = 0.082</text>\n<text text-anchor=\"start\" x=\"166\" y=\"-118.6387\" font-family=\"Times,serif\" font-size=\"14.00\" fill=\"#000000\">samples = 617</text>\n<text text-anchor=\"start\" x=\"164\" y=\"-103.6387\" font-family=\"Times,serif\" font-size=\"14.00\" fill=\"#000000\">value = 11.809</text>\n</g>\n<!-- 0&#45;&gt;1 -->\n<g id=\"edge1\" class=\"edge\">\n<title>0&#45;&gt;1</title>\n<path fill=\"none\" stroke=\"#000000\" d=\"M120.1973,-95.6419C128.8028,-98.2585 137.6666,-100.9536 146.3005,-103.5787\"/>\n<polygon fill=\"#000000\" stroke=\"#000000\" points=\"145.3391,-106.9446 155.9248,-106.505 147.3755,-100.2473 145.3391,-106.9446\"/>\n<text text-anchor=\"middle\" x=\"133.8692\" y=\"-114.5757\" font-family=\"Times,serif\" font-size=\"14.00\" fill=\"#000000\">True</text>\n</g>\n<!-- 2 -->\n<g id=\"node3\" class=\"node\">\n<title>2</title>\n<polygon fill=\"#e58139\" stroke=\"#000000\" points=\"260,-59.8387 156,-59.8387 156,-6.8387 260,-6.8387 260,-59.8387\"/>\n<text text-anchor=\"start\" x=\"171.5\" y=\"-44.6387\" font-family=\"Times,serif\" font-size=\"14.00\" fill=\"#000000\">mse = 0.086</text>\n<text text-anchor=\"start\" x=\"166\" y=\"-29.6387\" font-family=\"Times,serif\" font-size=\"14.00\" fill=\"#000000\">samples = 383</text>\n<text text-anchor=\"start\" x=\"164\" y=\"-14.6387\" font-family=\"Times,serif\" font-size=\"14.00\" fill=\"#000000\">value = 12.387</text>\n</g>\n<!-- 0&#45;&gt;2 -->\n<g id=\"edge2\" class=\"edge\">\n<title>0&#45;&gt;2</title>\n<path fill=\"none\" stroke=\"#000000\" d=\"M120.1973,-59.4422C128.8028,-56.8838 137.6666,-54.2486 146.3005,-51.6818\"/>\n<polygon fill=\"#000000\" stroke=\"#000000\" points=\"147.3369,-55.0252 155.9248,-48.8205 145.342,-48.3154 147.3369,-55.0252\"/>\n<text text-anchor=\"middle\" x=\"133.9425\" y=\"-33.2134\" font-family=\"Times,serif\" font-size=\"14.00\" fill=\"#000000\">False</text>\n</g>\n</g>\n</svg>\n"
          },
          "metadata": {
            "tags": []
          }
        }
      ]
    },
    {
      "metadata": {
        "id": "MdKATDABINw4",
        "colab_type": "code",
        "colab": {}
      },
      "cell_type": "code",
      "source": [
        "def calc_std(n, s, s2): return np.sqrt(s2/n - (s/n)**2)\n",
        "\n",
        "def find_better_split(self, var_idx):\n",
        "  x, y = self.x.iloc[self.idxs, var_idx].values, self.y[self.idxs]\n",
        "  idxs = np.argsort(x)\n",
        "  x_sorted, y_sorted = x[idxs], y[idxs]\n",
        "  r_cnt, r_s, r_s2 = len(x_sorted), y_sorted.sum(), (y_sorted**2).sum()\n",
        "  l_cnt, l_s, l_s2 = 0., 0., 0.\n",
        "\n",
        "  for i in range(self.n - self.min_leaf):\n",
        "    l_cnt += 1; r_cnt -= 1\n",
        "    l_s += y_sorted[i]; r_s -= y_sorted[i]\n",
        "    l_s2 += y_sorted[i]**2; r_s2 -= y_sorted[i]**2\n",
        "    if x_sorted[i] == x_sorted[i + 1]: continue\n",
        "\n",
        "    l_std = calc_std(l_cnt, l_s, l_s2)\n",
        "    r_std = calc_std(r_cnt, r_s, r_s2)\n",
        "    score = l_cnt * l_std + r_cnt * r_std\n",
        "    if score < self.score:\n",
        "      self.score, self.var_idx, self.split_val = score, var_idx, x_sorted[i]"
      ],
      "execution_count": 0,
      "outputs": []
    },
    {
      "metadata": {
        "id": "ss7EaF0xI8Hv",
        "colab_type": "code",
        "colab": {}
      },
      "cell_type": "code",
      "source": [
        "DecisionTree.find_better_split = find_better_split"
      ],
      "execution_count": 0,
      "outputs": []
    },
    {
      "metadata": {
        "id": "Kxbd30gqCxlj",
        "colab_type": "code",
        "outputId": "ce3f9574-59d4-4145-e463-17f526f37af5",
        "colab": {
          "base_uri": "https://localhost:8080/",
          "height": 50
        }
      },
      "cell_type": "code",
      "source": [
        "rf = RandomForest(trn_x, trn_y, 1)\n",
        "print(rf.trees[0])\n",
        "%timeit RandomForest(trn_x, trn_y, 1)"
      ],
      "execution_count": 0,
      "outputs": [
        {
          "output_type": "stream",
          "text": [
            "samples: 1000, value: 12.030368441695023, score: 288.6899540938478, split variable: OverallQual, split value: 6\n",
            "100 loops, best of 3: 8.63 ms per loop\n"
          ],
          "name": "stdout"
        }
      ]
    },
    {
      "metadata": {
        "id": "Qorp-n5AEsQ_",
        "colab_type": "code",
        "outputId": "1d5c69f3-82e3-412a-96a0-9a636a148b0d",
        "colab": {
          "base_uri": "https://localhost:8080/",
          "height": 392
        }
      },
      "cell_type": "code",
      "source": [
        "m = RandomForestRegressor(n_estimators=1, max_depth=2, bootstrap=False)\n",
        "m.fit(trn_x, trn_y)\n",
        "draw_tree(m.estimators_[0], trn_x, precision=3)"
      ],
      "execution_count": 0,
      "outputs": [
        {
          "output_type": "display_data",
          "data": {
            "text/plain": [
              "<graphviz.files.Source at 0x7f7110c7aac8>"
            ],
            "image/svg+xml": "<?xml version=\"1.0\" encoding=\"UTF-8\" standalone=\"no\"?>\n<!DOCTYPE svg PUBLIC \"-//W3C//DTD SVG 1.1//EN\"\n \"http://www.w3.org/Graphics/SVG/1.1/DTD/svg11.dtd\">\n<!-- Generated by graphviz version 2.40.1 (20161225.0304)\n -->\n<!-- Title: Tree Pages: 1 -->\n<svg width=\"458pt\" height=\"278pt\"\n viewBox=\"0.00 0.00 458.00 278.00\" xmlns=\"http://www.w3.org/2000/svg\" xmlns:xlink=\"http://www.w3.org/1999/xlink\">\n<g id=\"graph0\" class=\"graph\" transform=\"scale(1 1) rotate(0) translate(4 274)\">\n<title>Tree</title>\n<polygon fill=\"#ffffff\" stroke=\"transparent\" points=\"-4,4 -4,-274 454,-274 454,4 -4,4\"/>\n<!-- 0 -->\n<g id=\"node1\" class=\"node\">\n<title>0</title>\n<polygon fill=\"#e58139\" fill-opacity=\"0.380392\" stroke=\"#000000\" points=\"123,-170.5 3,-170.5 3,-102.5 123,-102.5 123,-170.5\"/>\n<text text-anchor=\"start\" x=\"11\" y=\"-155.3\" font-family=\"Times,serif\" font-size=\"14.00\" fill=\"#000000\">OverallQual ≤ 6.5</text>\n<text text-anchor=\"start\" x=\"26.5\" y=\"-140.3\" font-family=\"Times,serif\" font-size=\"14.00\" fill=\"#000000\">mse = 0.162</text>\n<text text-anchor=\"start\" x=\"17.5\" y=\"-125.3\" font-family=\"Times,serif\" font-size=\"14.00\" fill=\"#000000\">samples = 1000</text>\n<text text-anchor=\"start\" x=\"22.5\" y=\"-110.3\" font-family=\"Times,serif\" font-size=\"14.00\" fill=\"#000000\">value = 12.03</text>\n</g>\n<!-- 1 -->\n<g id=\"node2\" class=\"node\">\n<title>1</title>\n<polygon fill=\"#e58139\" fill-opacity=\"0.133333\" stroke=\"#000000\" points=\"300.5,-213.5 165.5,-213.5 165.5,-145.5 300.5,-145.5 300.5,-213.5\"/>\n<text text-anchor=\"start\" x=\"173.5\" y=\"-198.3\" font-family=\"Times,serif\" font-size=\"14.00\" fill=\"#000000\">GrLivArea ≤ 1379.0</text>\n<text text-anchor=\"start\" x=\"196.5\" y=\"-183.3\" font-family=\"Times,serif\" font-size=\"14.00\" fill=\"#000000\">mse = 0.082</text>\n<text text-anchor=\"start\" x=\"191\" y=\"-168.3\" font-family=\"Times,serif\" font-size=\"14.00\" fill=\"#000000\">samples = 617</text>\n<text text-anchor=\"start\" x=\"189\" y=\"-153.3\" font-family=\"Times,serif\" font-size=\"14.00\" fill=\"#000000\">value = 11.809</text>\n</g>\n<!-- 0&#45;&gt;1 -->\n<g id=\"edge1\" class=\"edge\">\n<title>0&#45;&gt;1</title>\n<path fill=\"none\" stroke=\"#000000\" d=\"M123.4143,-151.7813C133.7899,-154.4057 144.7003,-157.1654 155.4505,-159.8845\"/>\n<polygon fill=\"#000000\" stroke=\"#000000\" points=\"154.7051,-163.3062 165.2581,-162.3653 156.4217,-156.5199 154.7051,-163.3062\"/>\n<text text-anchor=\"middle\" x=\"143.7853\" y=\"-171.4683\" font-family=\"Times,serif\" font-size=\"14.00\" fill=\"#000000\">True</text>\n</g>\n<!-- 4 -->\n<g id=\"node5\" class=\"node\">\n<title>4</title>\n<polygon fill=\"#e58139\" fill-opacity=\"0.780392\" stroke=\"#000000\" points=\"293,-127.5 173,-127.5 173,-59.5 293,-59.5 293,-127.5\"/>\n<text text-anchor=\"start\" x=\"181\" y=\"-112.3\" font-family=\"Times,serif\" font-size=\"14.00\" fill=\"#000000\">OverallQual ≤ 7.5</text>\n<text text-anchor=\"start\" x=\"196.5\" y=\"-97.3\" font-family=\"Times,serif\" font-size=\"14.00\" fill=\"#000000\">mse = 0.086</text>\n<text text-anchor=\"start\" x=\"191\" y=\"-82.3\" font-family=\"Times,serif\" font-size=\"14.00\" fill=\"#000000\">samples = 383</text>\n<text text-anchor=\"start\" x=\"189\" y=\"-67.3\" font-family=\"Times,serif\" font-size=\"14.00\" fill=\"#000000\">value = 12.387</text>\n</g>\n<!-- 0&#45;&gt;4 -->\n<g id=\"edge4\" class=\"edge\">\n<title>0&#45;&gt;4</title>\n<path fill=\"none\" stroke=\"#000000\" d=\"M123.4143,-121.2187C136.1907,-117.9871 149.778,-114.5503 162.8785,-111.2366\"/>\n<polygon fill=\"#000000\" stroke=\"#000000\" points=\"163.9439,-114.5775 172.7802,-108.7321 162.2273,-107.7912 163.9439,-114.5775\"/>\n<text text-anchor=\"middle\" x=\"151.3074\" y=\"-92.229\" font-family=\"Times,serif\" font-size=\"14.00\" fill=\"#000000\">False</text>\n</g>\n<!-- 2 -->\n<g id=\"node3\" class=\"node\">\n<title>2</title>\n<polygon fill=\"transparent\" stroke=\"#000000\" points=\"448,-270 344,-270 344,-217 448,-217 448,-270\"/>\n<text text-anchor=\"start\" x=\"359.5\" y=\"-254.8\" font-family=\"Times,serif\" font-size=\"14.00\" fill=\"#000000\">mse = 0.068</text>\n<text text-anchor=\"start\" x=\"354\" y=\"-239.8\" font-family=\"Times,serif\" font-size=\"14.00\" fill=\"#000000\">samples = 376</text>\n<text text-anchor=\"start\" x=\"352\" y=\"-224.8\" font-family=\"Times,serif\" font-size=\"14.00\" fill=\"#000000\">value = 11.691</text>\n</g>\n<!-- 1&#45;&gt;2 -->\n<g id=\"edge2\" class=\"edge\">\n<title>1&#45;&gt;2</title>\n<path fill=\"none\" stroke=\"#000000\" d=\"M300.7106,-206.0858C311.8055,-210.442 323.2515,-214.9362 334.1937,-219.2325\"/>\n<polygon fill=\"#000000\" stroke=\"#000000\" points=\"333.0711,-222.5518 343.6585,-222.9487 335.6294,-216.036 333.0711,-222.5518\"/>\n</g>\n<!-- 3 -->\n<g id=\"node4\" class=\"node\">\n<title>3</title>\n<polygon fill=\"#e58139\" fill-opacity=\"0.337255\" stroke=\"#000000\" points=\"448,-199 344,-199 344,-146 448,-146 448,-199\"/>\n<text text-anchor=\"start\" x=\"359.5\" y=\"-183.8\" font-family=\"Times,serif\" font-size=\"14.00\" fill=\"#000000\">mse = 0.049</text>\n<text text-anchor=\"start\" x=\"354\" y=\"-168.8\" font-family=\"Times,serif\" font-size=\"14.00\" fill=\"#000000\">samples = 241</text>\n<text text-anchor=\"start\" x=\"352\" y=\"-153.8\" font-family=\"Times,serif\" font-size=\"14.00\" fill=\"#000000\">value = 11.993</text>\n</g>\n<!-- 1&#45;&gt;3 -->\n<g id=\"edge3\" class=\"edge\">\n<title>1&#45;&gt;3</title>\n<path fill=\"none\" stroke=\"#000000\" d=\"M300.7106,-176.5922C311.5813,-176.1253 322.7892,-175.644 333.53,-175.1828\"/>\n<polygon fill=\"#000000\" stroke=\"#000000\" points=\"333.8179,-178.6737 343.6585,-174.7478 333.5175,-171.6802 333.8179,-178.6737\"/>\n</g>\n<!-- 5 -->\n<g id=\"node6\" class=\"node\">\n<title>5</title>\n<polygon fill=\"#e58139\" fill-opacity=\"0.615686\" stroke=\"#000000\" points=\"448,-124 344,-124 344,-71 448,-71 448,-124\"/>\n<text text-anchor=\"start\" x=\"359.5\" y=\"-108.8\" font-family=\"Times,serif\" font-size=\"14.00\" fill=\"#000000\">mse = 0.046</text>\n<text text-anchor=\"start\" x=\"354\" y=\"-93.8\" font-family=\"Times,serif\" font-size=\"14.00\" fill=\"#000000\">samples = 221</text>\n<text text-anchor=\"start\" x=\"352\" y=\"-78.8\" font-family=\"Times,serif\" font-size=\"14.00\" fill=\"#000000\">value = 12.241</text>\n</g>\n<!-- 4&#45;&gt;5 -->\n<g id=\"edge5\" class=\"edge\">\n<title>4&#45;&gt;5</title>\n<path fill=\"none\" stroke=\"#000000\" d=\"M293.2321,-94.9781C306.457,-95.3026 320.4853,-95.6469 333.7865,-95.9733\"/>\n<polygon fill=\"#000000\" stroke=\"#000000\" points=\"333.708,-99.4723 343.7909,-96.2188 333.8798,-92.4744 333.708,-99.4723\"/>\n</g>\n<!-- 6 -->\n<g id=\"node7\" class=\"node\">\n<title>6</title>\n<polygon fill=\"#e58139\" stroke=\"#000000\" points=\"448,-53 344,-53 344,0 448,0 448,-53\"/>\n<text text-anchor=\"start\" x=\"359.5\" y=\"-37.8\" font-family=\"Times,serif\" font-size=\"14.00\" fill=\"#000000\">mse = 0.072</text>\n<text text-anchor=\"start\" x=\"354\" y=\"-22.8\" font-family=\"Times,serif\" font-size=\"14.00\" fill=\"#000000\">samples = 162</text>\n<text text-anchor=\"start\" x=\"352\" y=\"-7.8\" font-family=\"Times,serif\" font-size=\"14.00\" fill=\"#000000\">value = 12.584</text>\n</g>\n<!-- 4&#45;&gt;6 -->\n<g id=\"edge6\" class=\"edge\">\n<title>4&#45;&gt;6</title>\n<path fill=\"none\" stroke=\"#000000\" d=\"M293.2321,-68.742C306.5867,-63.2527 320.7605,-57.4267 334.1775,-51.9117\"/>\n<polygon fill=\"#000000\" stroke=\"#000000\" points=\"335.8724,-54.9992 343.7909,-47.9602 333.2111,-48.5248 335.8724,-54.9992\"/>\n</g>\n</g>\n</svg>\n"
          },
          "metadata": {
            "tags": []
          }
        }
      ]
    },
    {
      "metadata": {
        "id": "KqlfXm8SDDPs",
        "colab_type": "code",
        "colab": {}
      },
      "cell_type": "code",
      "source": [
        "def find_split(self):\n",
        "  for c in range(self.c):\n",
        "    self.find_better_split(c)\n",
        "  if not self.is_leaf:\n",
        "#     pdb.set_trace()\n",
        "    x = self.x.iloc[:, self.var_idx].values\n",
        "    l_idxs = np.nonzero(x > self.split_val)[0]\n",
        "    r_idxs = np.nonzero(x <= self.split_val)[0]\n",
        "    self.lb = DecisionTree(self.x.iloc[l_idxs], self.y[l_idxs], min_leaf=5)\n",
        "    self.rb = DecisionTree(self.x.iloc[r_idxs], self.y[r_idxs], min_leaf=5)\n",
        "\n",
        "DecisionTree.find_split = find_split"
      ],
      "execution_count": 0,
      "outputs": []
    },
    {
      "metadata": {
        "id": "UUybVVjRSaNa",
        "colab_type": "code",
        "outputId": "046b0948-4e5d-44a3-8fde-ae468ef40f6d",
        "colab": {
          "base_uri": "https://localhost:8080/",
          "height": 34
        }
      },
      "cell_type": "code",
      "source": [
        "t = RandomForest(trn_x, trn_y, 1).trees[0]\n",
        "t"
      ],
      "execution_count": 0,
      "outputs": [
        {
          "output_type": "execute_result",
          "data": {
            "text/plain": [
              "samples: 1000, value: 12.030368441695023, score: 288.6899540937253, split variable: OverallQual, split value: 6"
            ]
          },
          "metadata": {
            "tags": []
          },
          "execution_count": 173
        }
      ]
    },
    {
      "metadata": {
        "id": "rdTsvjhUPMhK",
        "colab_type": "code",
        "outputId": "427dd1a2-50c4-4459-c32d-b138ee11bd3d",
        "colab": {
          "base_uri": "https://localhost:8080/",
          "height": 84
        }
      },
      "cell_type": "code",
      "source": [
        "t.rb, t.lb, t.lb.lb, t.lb.rb"
      ],
      "execution_count": 0,
      "outputs": [
        {
          "output_type": "execute_result",
          "data": {
            "text/plain": [
              "(samples: 617, value: 11.809290068879918, score: 151.00603314209667, split variable: GrLivArea, split value: 1376,\n",
              " samples: 383, value: 12.386518196334503, score: 90.79697982952005, split variable: OverallQual, split value: 7,\n",
              " samples: 162, value: 12.584355513747466, score: 36.72007562937957, split variable: GrLivArea, split value: 1915,\n",
              " samples: 221, value: 12.241497176330432, score: 40.144323458391156, split variable: GrLivArea, split value: 1935)"
            ]
          },
          "metadata": {
            "tags": []
          },
          "execution_count": 174
        }
      ]
    },
    {
      "metadata": {
        "id": "Q6Wzj33ZQTks",
        "colab_type": "code",
        "outputId": "8bc52c05-31d7-4e65-d7f2-bee0280c12eb",
        "colab": {
          "base_uri": "https://localhost:8080/",
          "height": 620
        }
      },
      "cell_type": "code",
      "source": [
        "m = RandomForestRegressor(n_estimators=1, max_depth=3, bootstrap=False)\n",
        "m.fit(trn_x, trn_y)\n",
        "draw_tree(m.estimators_[0], trn_x, precision=3)"
      ],
      "execution_count": 0,
      "outputs": [
        {
          "output_type": "display_data",
          "data": {
            "text/plain": [
              "<graphviz.files.Source at 0x7f7118de4470>"
            ],
            "image/svg+xml": "<?xml version=\"1.0\" encoding=\"UTF-8\" standalone=\"no\"?>\n<!DOCTYPE svg PUBLIC \"-//W3C//DTD SVG 1.1//EN\"\n \"http://www.w3.org/Graphics/SVG/1.1/DTD/svg11.dtd\">\n<!-- Generated by graphviz version 2.40.1 (20161225.0304)\n -->\n<!-- Title: Tree Pages: 1 -->\n<svg width=\"720pt\" height=\"434pt\"\n viewBox=\"0.00 0.00 720.00 434.49\" xmlns=\"http://www.w3.org/2000/svg\" xmlns:xlink=\"http://www.w3.org/1999/xlink\">\n<g id=\"graph0\" class=\"graph\" transform=\"scale(.7787 .7787) rotate(0) translate(4 554)\">\n<title>Tree</title>\n<polygon fill=\"#ffffff\" stroke=\"transparent\" points=\"-4,4 -4,-554 920.6667,-554 920.6667,4 -4,4\"/>\n<!-- 0 -->\n<g id=\"node1\" class=\"node\">\n<title>0</title>\n<polygon fill=\"#e58139\" fill-opacity=\"0.447059\" stroke=\"#000000\" points=\"151.6667,-336.5 31.6667,-336.5 31.6667,-268.5 151.6667,-268.5 151.6667,-336.5\"/>\n<text text-anchor=\"start\" x=\"39.6667\" y=\"-321.3\" font-family=\"Times,serif\" font-size=\"14.00\" fill=\"#000000\">OverallQual ≤ 6.5</text>\n<text text-anchor=\"start\" x=\"55.1667\" y=\"-306.3\" font-family=\"Times,serif\" font-size=\"14.00\" fill=\"#000000\">mse = 0.162</text>\n<text text-anchor=\"start\" x=\"46.1667\" y=\"-291.3\" font-family=\"Times,serif\" font-size=\"14.00\" fill=\"#000000\">samples = 1000</text>\n<text text-anchor=\"start\" x=\"51.1667\" y=\"-276.3\" font-family=\"Times,serif\" font-size=\"14.00\" fill=\"#000000\">value = 12.03</text>\n</g>\n<!-- 1 -->\n<g id=\"node2\" class=\"node\">\n<title>1</title>\n<polygon fill=\"#e58139\" fill-opacity=\"0.274510\" stroke=\"#000000\" points=\"408.1667,-372.5 273.1667,-372.5 273.1667,-304.5 408.1667,-304.5 408.1667,-372.5\"/>\n<text text-anchor=\"start\" x=\"281.1667\" y=\"-357.3\" font-family=\"Times,serif\" font-size=\"14.00\" fill=\"#000000\">GrLivArea ≤ 1379.0</text>\n<text text-anchor=\"start\" x=\"304.1667\" y=\"-342.3\" font-family=\"Times,serif\" font-size=\"14.00\" fill=\"#000000\">mse = 0.082</text>\n<text text-anchor=\"start\" x=\"298.6667\" y=\"-327.3\" font-family=\"Times,serif\" font-size=\"14.00\" fill=\"#000000\">samples = 617</text>\n<text text-anchor=\"start\" x=\"296.6667\" y=\"-312.3\" font-family=\"Times,serif\" font-size=\"14.00\" fill=\"#000000\">value = 11.809</text>\n</g>\n<!-- 0&#45;&gt;1 -->\n<g id=\"edge1\" class=\"edge\">\n<title>0&#45;&gt;1</title>\n<path fill=\"none\" stroke=\"#000000\" d=\"M151.9426,-311.2146C185.3592,-316.0459 227.2762,-322.1062 263.1131,-327.2874\"/>\n<polygon fill=\"#000000\" stroke=\"#000000\" points=\"262.6497,-330.7567 273.0476,-328.7238 263.6514,-323.8288 262.6497,-330.7567\"/>\n<text text-anchor=\"middle\" x=\"253.0224\" y=\"-339.99\" font-family=\"Times,serif\" font-size=\"14.00\" fill=\"#000000\">True</text>\n</g>\n<!-- 8 -->\n<g id=\"node9\" class=\"node\">\n<title>8</title>\n<polygon fill=\"#e58139\" fill-opacity=\"0.725490\" stroke=\"#000000\" points=\"400.6667,-245.5 280.6667,-245.5 280.6667,-177.5 400.6667,-177.5 400.6667,-245.5\"/>\n<text text-anchor=\"start\" x=\"288.6667\" y=\"-230.3\" font-family=\"Times,serif\" font-size=\"14.00\" fill=\"#000000\">OverallQual ≤ 7.5</text>\n<text text-anchor=\"start\" x=\"304.1667\" y=\"-215.3\" font-family=\"Times,serif\" font-size=\"14.00\" fill=\"#000000\">mse = 0.086</text>\n<text text-anchor=\"start\" x=\"298.6667\" y=\"-200.3\" font-family=\"Times,serif\" font-size=\"14.00\" fill=\"#000000\">samples = 383</text>\n<text text-anchor=\"start\" x=\"296.6667\" y=\"-185.3\" font-family=\"Times,serif\" font-size=\"14.00\" fill=\"#000000\">value = 12.387</text>\n</g>\n<!-- 0&#45;&gt;8 -->\n<g id=\"edge8\" class=\"edge\">\n<title>0&#45;&gt;8</title>\n<path fill=\"none\" stroke=\"#000000\" d=\"M151.9426,-280.4714C187.7481,-267.3859 233.3128,-250.7337 270.7004,-237.07\"/>\n<polygon fill=\"#000000\" stroke=\"#000000\" points=\"272.3238,-240.2032 280.5148,-233.4832 269.9209,-233.6285 272.3238,-240.2032\"/>\n<text text-anchor=\"middle\" x=\"257.8432\" y=\"-219.2476\" font-family=\"Times,serif\" font-size=\"14.00\" fill=\"#000000\">False</text>\n</g>\n<!-- 2 -->\n<g id=\"node3\" class=\"node\">\n<title>2</title>\n<polygon fill=\"#e58139\" fill-opacity=\"0.180392\" stroke=\"#000000\" points=\"660.6667,-486.5 540.6667,-486.5 540.6667,-418.5 660.6667,-418.5 660.6667,-486.5\"/>\n<text text-anchor=\"start\" x=\"548.6667\" y=\"-471.3\" font-family=\"Times,serif\" font-size=\"14.00\" fill=\"#000000\">OverallQual ≤ 4.5</text>\n<text text-anchor=\"start\" x=\"564.1667\" y=\"-456.3\" font-family=\"Times,serif\" font-size=\"14.00\" fill=\"#000000\">mse = 0.068</text>\n<text text-anchor=\"start\" x=\"558.6667\" y=\"-441.3\" font-family=\"Times,serif\" font-size=\"14.00\" fill=\"#000000\">samples = 376</text>\n<text text-anchor=\"start\" x=\"556.6667\" y=\"-426.3\" font-family=\"Times,serif\" font-size=\"14.00\" fill=\"#000000\">value = 11.691</text>\n</g>\n<!-- 1&#45;&gt;2 -->\n<g id=\"edge2\" class=\"edge\">\n<title>1&#45;&gt;2</title>\n<path fill=\"none\" stroke=\"#000000\" d=\"M408.2999,-368.1546C446.0284,-384.697 492.9415,-405.2667 530.9938,-421.9511\"/>\n<polygon fill=\"#000000\" stroke=\"#000000\" points=\"529.9024,-425.2942 540.4662,-426.1044 532.7133,-418.8833 529.9024,-425.2942\"/>\n</g>\n<!-- 5 -->\n<g id=\"node6\" class=\"node\">\n<title>5</title>\n<polygon fill=\"#e58139\" fill-opacity=\"0.415686\" stroke=\"#000000\" points=\"660.6667,-372.5 540.6667,-372.5 540.6667,-304.5 660.6667,-304.5 660.6667,-372.5\"/>\n<text text-anchor=\"start\" x=\"548.6667\" y=\"-357.3\" font-family=\"Times,serif\" font-size=\"14.00\" fill=\"#000000\">OverallQual ≤ 5.5</text>\n<text text-anchor=\"start\" x=\"564.1667\" y=\"-342.3\" font-family=\"Times,serif\" font-size=\"14.00\" fill=\"#000000\">mse = 0.049</text>\n<text text-anchor=\"start\" x=\"558.6667\" y=\"-327.3\" font-family=\"Times,serif\" font-size=\"14.00\" fill=\"#000000\">samples = 241</text>\n<text text-anchor=\"start\" x=\"556.6667\" y=\"-312.3\" font-family=\"Times,serif\" font-size=\"14.00\" fill=\"#000000\">value = 11.993</text>\n</g>\n<!-- 1&#45;&gt;5 -->\n<g id=\"edge5\" class=\"edge\">\n<title>1&#45;&gt;5</title>\n<path fill=\"none\" stroke=\"#000000\" d=\"M408.2999,-338.5C445.7086,-338.5 492.147,-338.5 530.0244,-338.5\"/>\n<polygon fill=\"#000000\" stroke=\"#000000\" points=\"530.4662,-342.0001 540.4662,-338.5 530.4662,-335.0001 530.4662,-342.0001\"/>\n</g>\n<!-- 3 -->\n<g id=\"node4\" class=\"node\">\n<title>3</title>\n<polygon fill=\"transparent\" stroke=\"#000000\" points=\"889.6667,-550 785.6667,-550 785.6667,-497 889.6667,-497 889.6667,-550\"/>\n<text text-anchor=\"start\" x=\"801.1667\" y=\"-534.8\" font-family=\"Times,serif\" font-size=\"14.00\" fill=\"#000000\">mse = 0.084</text>\n<text text-anchor=\"start\" x=\"799.6667\" y=\"-519.8\" font-family=\"Times,serif\" font-size=\"14.00\" fill=\"#000000\">samples = 86</text>\n<text text-anchor=\"start\" x=\"793.6667\" y=\"-504.8\" font-family=\"Times,serif\" font-size=\"14.00\" fill=\"#000000\">value = 11.461</text>\n</g>\n<!-- 2&#45;&gt;3 -->\n<g id=\"edge3\" class=\"edge\">\n<title>2&#45;&gt;3</title>\n<path fill=\"none\" stroke=\"#000000\" d=\"M660.7782,-470.5081C695.8764,-481.0228 740.0855,-494.2668 775.5266,-504.8842\"/>\n<polygon fill=\"#000000\" stroke=\"#000000\" points=\"774.6916,-508.2877 785.2754,-507.8047 776.7005,-501.5821 774.6916,-508.2877\"/>\n</g>\n<!-- 4 -->\n<g id=\"node5\" class=\"node\">\n<title>4</title>\n<polygon fill=\"#e58139\" fill-opacity=\"0.235294\" stroke=\"#000000\" points=\"887.6667,-479 787.6667,-479 787.6667,-426 887.6667,-426 887.6667,-479\"/>\n<text text-anchor=\"start\" x=\"801.1667\" y=\"-463.8\" font-family=\"Times,serif\" font-size=\"14.00\" fill=\"#000000\">mse = 0.042</text>\n<text text-anchor=\"start\" x=\"795.6667\" y=\"-448.8\" font-family=\"Times,serif\" font-size=\"14.00\" fill=\"#000000\">samples = 290</text>\n<text text-anchor=\"start\" x=\"797.6667\" y=\"-433.8\" font-family=\"Times,serif\" font-size=\"14.00\" fill=\"#000000\">value = 11.76</text>\n</g>\n<!-- 2&#45;&gt;4 -->\n<g id=\"edge4\" class=\"edge\">\n<title>2&#45;&gt;4</title>\n<path fill=\"none\" stroke=\"#000000\" d=\"M660.7782,-452.5C696.4753,-452.5 741.5969,-452.5 777.3331,-452.5\"/>\n<polygon fill=\"#000000\" stroke=\"#000000\" points=\"777.6235,-456.0001 787.6234,-452.5 777.6234,-449.0001 777.6235,-456.0001\"/>\n</g>\n<!-- 6 -->\n<g id=\"node7\" class=\"node\">\n<title>6</title>\n<polygon fill=\"#e58139\" fill-opacity=\"0.325490\" stroke=\"#000000\" points=\"889.6667,-408 785.6667,-408 785.6667,-355 889.6667,-355 889.6667,-408\"/>\n<text text-anchor=\"start\" x=\"801.1667\" y=\"-392.8\" font-family=\"Times,serif\" font-size=\"14.00\" fill=\"#000000\">mse = 0.037</text>\n<text text-anchor=\"start\" x=\"799.6667\" y=\"-377.8\" font-family=\"Times,serif\" font-size=\"14.00\" fill=\"#000000\">samples = 93</text>\n<text text-anchor=\"start\" x=\"793.6667\" y=\"-362.8\" font-family=\"Times,serif\" font-size=\"14.00\" fill=\"#000000\">value = 11.874</text>\n</g>\n<!-- 5&#45;&gt;6 -->\n<g id=\"edge6\" class=\"edge\">\n<title>5&#45;&gt;6</title>\n<path fill=\"none\" stroke=\"#000000\" d=\"M660.7782,-349.4063C695.7264,-355.7471 739.7078,-363.7269 775.0717,-370.1431\"/>\n<polygon fill=\"#000000\" stroke=\"#000000\" points=\"774.8112,-373.6529 785.2754,-371.9944 776.0609,-366.7654 774.8112,-373.6529\"/>\n</g>\n<!-- 7 -->\n<g id=\"node8\" class=\"node\">\n<title>7</title>\n<polygon fill=\"#e58139\" fill-opacity=\"0.474510\" stroke=\"#000000\" points=\"889.6667,-337 785.6667,-337 785.6667,-284 889.6667,-284 889.6667,-337\"/>\n<text text-anchor=\"start\" x=\"801.1667\" y=\"-321.8\" font-family=\"Times,serif\" font-size=\"14.00\" fill=\"#000000\">mse = 0.041</text>\n<text text-anchor=\"start\" x=\"795.6667\" y=\"-306.8\" font-family=\"Times,serif\" font-size=\"14.00\" fill=\"#000000\">samples = 148</text>\n<text text-anchor=\"start\" x=\"793.6667\" y=\"-291.8\" font-family=\"Times,serif\" font-size=\"14.00\" fill=\"#000000\">value = 12.068</text>\n</g>\n<!-- 5&#45;&gt;7 -->\n<g id=\"edge7\" class=\"edge\">\n<title>5&#45;&gt;7</title>\n<path fill=\"none\" stroke=\"#000000\" d=\"M660.7782,-331.3982C695.7264,-327.2693 739.7078,-322.0732 775.0717,-317.8952\"/>\n<polygon fill=\"#000000\" stroke=\"#000000\" points=\"775.7552,-321.3389 785.2754,-316.6897 774.9338,-314.3872 775.7552,-321.3389\"/>\n</g>\n<!-- 9 -->\n<g id=\"node10\" class=\"node\">\n<title>9</title>\n<polygon fill=\"#e58139\" fill-opacity=\"0.611765\" stroke=\"#000000\" points=\"668.1667,-245.5 533.1667,-245.5 533.1667,-177.5 668.1667,-177.5 668.1667,-245.5\"/>\n<text text-anchor=\"start\" x=\"541.1667\" y=\"-230.3\" font-family=\"Times,serif\" font-size=\"14.00\" fill=\"#000000\">GrLivArea ≤ 1941.0</text>\n<text text-anchor=\"start\" x=\"564.1667\" y=\"-215.3\" font-family=\"Times,serif\" font-size=\"14.00\" fill=\"#000000\">mse = 0.046</text>\n<text text-anchor=\"start\" x=\"558.6667\" y=\"-200.3\" font-family=\"Times,serif\" font-size=\"14.00\" fill=\"#000000\">samples = 221</text>\n<text text-anchor=\"start\" x=\"556.6667\" y=\"-185.3\" font-family=\"Times,serif\" font-size=\"14.00\" fill=\"#000000\">value = 12.241</text>\n</g>\n<!-- 8&#45;&gt;9 -->\n<g id=\"edge9\" class=\"edge\">\n<title>8&#45;&gt;9</title>\n<path fill=\"none\" stroke=\"#000000\" d=\"M400.9694,-211.5C437.1864,-211.5 483.6499,-211.5 522.6442,-211.5\"/>\n<polygon fill=\"#000000\" stroke=\"#000000\" points=\"522.9064,-215.0001 532.9063,-211.5 522.9063,-208.0001 522.9064,-215.0001\"/>\n</g>\n<!-- 12 -->\n<g id=\"node13\" class=\"node\">\n<title>12</title>\n<polygon fill=\"#e58139\" fill-opacity=\"0.882353\" stroke=\"#000000\" points=\"668.1667,-131.5 533.1667,-131.5 533.1667,-63.5 668.1667,-63.5 668.1667,-131.5\"/>\n<text text-anchor=\"start\" x=\"541.1667\" y=\"-116.3\" font-family=\"Times,serif\" font-size=\"14.00\" fill=\"#000000\">GrLivArea ≤ 1918.5</text>\n<text text-anchor=\"start\" x=\"564.1667\" y=\"-101.3\" font-family=\"Times,serif\" font-size=\"14.00\" fill=\"#000000\">mse = 0.072</text>\n<text text-anchor=\"start\" x=\"558.6667\" y=\"-86.3\" font-family=\"Times,serif\" font-size=\"14.00\" fill=\"#000000\">samples = 162</text>\n<text text-anchor=\"start\" x=\"556.6667\" y=\"-71.3\" font-family=\"Times,serif\" font-size=\"14.00\" fill=\"#000000\">value = 12.584</text>\n</g>\n<!-- 8&#45;&gt;12 -->\n<g id=\"edge12\" class=\"edge\">\n<title>8&#45;&gt;12</title>\n<path fill=\"none\" stroke=\"#000000\" d=\"M400.9694,-185.0596C437.4946,-169.0447 484.4416,-148.4602 523.6381,-131.2741\"/>\n<polygon fill=\"#000000\" stroke=\"#000000\" points=\"525.1535,-134.4314 532.9063,-127.2103 522.3425,-128.0205 525.1535,-134.4314\"/>\n</g>\n<!-- 10 -->\n<g id=\"node11\" class=\"node\">\n<title>10</title>\n<polygon fill=\"#e58139\" fill-opacity=\"0.556863\" stroke=\"#000000\" points=\"887.6667,-266 787.6667,-266 787.6667,-213 887.6667,-213 887.6667,-266\"/>\n<text text-anchor=\"start\" x=\"801.1667\" y=\"-250.8\" font-family=\"Times,serif\" font-size=\"14.00\" fill=\"#000000\">mse = 0.033</text>\n<text text-anchor=\"start\" x=\"795.6667\" y=\"-235.8\" font-family=\"Times,serif\" font-size=\"14.00\" fill=\"#000000\">samples = 158</text>\n<text text-anchor=\"start\" x=\"797.1667\" y=\"-220.8\" font-family=\"Times,serif\" font-size=\"14.00\" fill=\"#000000\">value = 12.17</text>\n</g>\n<!-- 9&#45;&gt;10 -->\n<g id=\"edge10\" class=\"edge\">\n<title>9&#45;&gt;10</title>\n<path fill=\"none\" stroke=\"#000000\" d=\"M668.2642,-219.4862C702.6097,-223.5439 743.999,-228.4338 777.2686,-232.3644\"/>\n<polygon fill=\"#000000\" stroke=\"#000000\" points=\"776.9745,-235.8539 787.3162,-233.5514 777.7959,-228.9022 776.9745,-235.8539\"/>\n</g>\n<!-- 11 -->\n<g id=\"node12\" class=\"node\">\n<title>11</title>\n<polygon fill=\"#e58139\" fill-opacity=\"0.752941\" stroke=\"#000000\" points=\"886.1667,-195 789.1667,-195 789.1667,-142 886.1667,-142 886.1667,-195\"/>\n<text text-anchor=\"start\" x=\"801.1667\" y=\"-179.8\" font-family=\"Times,serif\" font-size=\"14.00\" fill=\"#000000\">mse = 0.033</text>\n<text text-anchor=\"start\" x=\"799.6667\" y=\"-164.8\" font-family=\"Times,serif\" font-size=\"14.00\" fill=\"#000000\">samples = 63</text>\n<text text-anchor=\"start\" x=\"797.1667\" y=\"-149.8\" font-family=\"Times,serif\" font-size=\"14.00\" fill=\"#000000\">value = 12.42</text>\n</g>\n<!-- 9&#45;&gt;11 -->\n<g id=\"edge11\" class=\"edge\">\n<title>9&#45;&gt;11</title>\n<path fill=\"none\" stroke=\"#000000\" d=\"M668.2642,-199.2355C703.1057,-192.914 745.1958,-185.2774 778.7047,-179.1977\"/>\n<polygon fill=\"#000000\" stroke=\"#000000\" points=\"779.5965,-182.5932 788.811,-177.3641 778.3468,-175.7056 779.5965,-182.5932\"/>\n</g>\n<!-- 13 -->\n<g id=\"node14\" class=\"node\">\n<title>13</title>\n<polygon fill=\"#e58139\" fill-opacity=\"0.772549\" stroke=\"#000000\" points=\"889.6667,-124 785.6667,-124 785.6667,-71 889.6667,-71 889.6667,-124\"/>\n<text text-anchor=\"start\" x=\"805.1667\" y=\"-108.8\" font-family=\"Times,serif\" font-size=\"14.00\" fill=\"#000000\">mse = 0.05</text>\n<text text-anchor=\"start\" x=\"799.6667\" y=\"-93.8\" font-family=\"Times,serif\" font-size=\"14.00\" fill=\"#000000\">samples = 85</text>\n<text text-anchor=\"start\" x=\"793.6667\" y=\"-78.8\" font-family=\"Times,serif\" font-size=\"14.00\" fill=\"#000000\">value = 12.447</text>\n</g>\n<!-- 12&#45;&gt;13 -->\n<g id=\"edge13\" class=\"edge\">\n<title>12&#45;&gt;13</title>\n<path fill=\"none\" stroke=\"#000000\" d=\"M668.2642,-97.5C701.8444,-97.5 742.1579,-97.5 775.0326,-97.5\"/>\n<polygon fill=\"#000000\" stroke=\"#000000\" points=\"775.4269,-101.0001 785.4268,-97.5 775.4268,-94.0001 775.4269,-101.0001\"/>\n</g>\n<!-- 14 -->\n<g id=\"node15\" class=\"node\">\n<title>14</title>\n<polygon fill=\"#e58139\" stroke=\"#000000\" points=\"889.6667,-53 785.6667,-53 785.6667,0 889.6667,0 889.6667,-53\"/>\n<text text-anchor=\"start\" x=\"801.1667\" y=\"-37.8\" font-family=\"Times,serif\" font-size=\"14.00\" fill=\"#000000\">mse = 0.053</text>\n<text text-anchor=\"start\" x=\"799.6667\" y=\"-22.8\" font-family=\"Times,serif\" font-size=\"14.00\" fill=\"#000000\">samples = 77</text>\n<text text-anchor=\"start\" x=\"793.6667\" y=\"-7.8\" font-family=\"Times,serif\" font-size=\"14.00\" fill=\"#000000\">value = 12.736</text>\n</g>\n<!-- 12&#45;&gt;14 -->\n<g id=\"edge14\" class=\"edge\">\n<title>12&#45;&gt;14</title>\n<path fill=\"none\" stroke=\"#000000\" d=\"M668.2642,-77.2493C701.9898,-67.1458 742.5071,-55.0077 775.4591,-45.136\"/>\n<polygon fill=\"#000000\" stroke=\"#000000\" points=\"776.8519,-48.3725 785.4268,-42.1499 774.843,-41.667 776.8519,-48.3725\"/>\n</g>\n</g>\n</svg>\n"
          },
          "metadata": {
            "tags": []
          }
        }
      ]
    },
    {
      "metadata": {
        "id": "YyrbT75aCB1m",
        "colab_type": "code",
        "colab": {}
      },
      "cell_type": "code",
      "source": [
        "def predict(self, x):\n",
        "  return [self.predict_row(xi[1]) for xi in x.iterrows()]\n",
        "\n",
        "def predict_row(self, xi):\n",
        "  if self.is_leaf: return self.val\n",
        "#   pdb.set_trace()\n",
        "  t = self.rb if xi[self.var_idx] <= self.split_val else self.lb\n",
        "  return t.predict_row(xi)\n",
        "\n",
        "DecisionTree.predict = predict\n",
        "DecisionTree.predict_row = predict_row"
      ],
      "execution_count": 0,
      "outputs": []
    },
    {
      "metadata": {
        "id": "EmkloiRmUKG5",
        "colab_type": "code",
        "outputId": "98b7dc22-b678-457d-f047-3429cd5ff308",
        "colab": {
          "base_uri": "https://localhost:8080/",
          "height": 101
        }
      },
      "cell_type": "code",
      "source": [
        "t = RandomForest(trn_x, trn_y, 1).trees[0]\n",
        "t.predict(val_x[:5])"
      ],
      "execution_count": 0,
      "outputs": [
        {
          "output_type": "execute_result",
          "data": {
            "text/plain": [
              "[11.885863073819142,\n",
              " 12.302415580246238,\n",
              " 12.01820525741274,\n",
              " 12.162324423276598,\n",
              " 12.801332892890704]"
            ]
          },
          "metadata": {
            "tags": []
          },
          "execution_count": 177
        }
      ]
    },
    {
      "metadata": {
        "id": "qc17z_vBUKJ0",
        "colab_type": "code",
        "outputId": "3cdb32e7-57e9-4772-9538-b2ee9df0630f",
        "colab": {
          "base_uri": "https://localhost:8080/",
          "height": 34
        }
      },
      "cell_type": "code",
      "source": [
        "m = RandomForestRegressor(n_estimators=1, min_samples_leaf=5, bootstrap=False)\n",
        "m.fit(trn_x, trn_y)\n",
        "m.predict(val_x[:5])"
      ],
      "execution_count": 0,
      "outputs": [
        {
          "output_type": "execute_result",
          "data": {
            "text/plain": [
              "array([11.91777, 12.29686, 12.07584, 12.20965, 12.81889])"
            ]
          },
          "metadata": {
            "tags": []
          },
          "execution_count": 178
        }
      ]
    },
    {
      "metadata": {
        "id": "TrTSEL0DUKMx",
        "colab_type": "code",
        "outputId": "23b810b9-8981-42f1-d6b9-d6a75f3735cc",
        "colab": {
          "base_uri": "https://localhost:8080/",
          "height": 34
        }
      },
      "cell_type": "code",
      "source": [
        "metrics.r2_score(t.predict(val_x[:5]), val_y[:5]), metrics.r2_score(m.predict(val_x[:5]), val_y[:5])"
      ],
      "execution_count": 0,
      "outputs": [
        {
          "output_type": "execute_result",
          "data": {
            "text/plain": [
              "(0.9243634901216589, 0.8916108333330888)"
            ]
          },
          "metadata": {
            "tags": []
          },
          "execution_count": 179
        }
      ]
    },
    {
      "metadata": {
        "id": "Er_CXvPRvQng",
        "colab_type": "text"
      },
      "cell_type": "markdown",
      "source": [
        "### All of columns"
      ]
    },
    {
      "metadata": {
        "id": "N5sFGS4YuyE2",
        "colab_type": "code",
        "colab": {}
      },
      "cell_type": "code",
      "source": [
        "train_cats(train_df)\n",
        "df, y, nas = proc_df(train_df, 'SalePrice')\n",
        "y = np.log1p(y)\n",
        "trn_x, val_x, trn_y, val_y = train_test_split(df, y, test_size=0.3)\n",
        "n = 1000\n",
        "trn_x, trn_y = trn_x[:n], trn_y[:n]"
      ],
      "execution_count": 0,
      "outputs": []
    },
    {
      "metadata": {
        "id": "YxgcJvgQxdgf",
        "colab_type": "code",
        "colab": {}
      },
      "cell_type": "code",
      "source": [
        "class RandomForest():\n",
        "  def __init__(self, x, y, nr_trees, sample_sz=1000, min_leaf=2, max_features=None):\n",
        "    self.x, self.y, self.nr_trees, self.sample_sz = x, y, nr_trees, sample_sz\n",
        "    self.min_leaf = min_leaf\n",
        "    self.max_features = max_features if not max_features is None else 1\n",
        "    self.trees = [self.create_tree() for _ in range(nr_trees)]\n",
        "  \n",
        "  def create_tree(self):\n",
        "    idxs = np.random.permutation(len(self.x))[:self.sample_sz]\n",
        "    return DecisionTree(self.x.iloc[idxs], self.y[idxs], self.min_leaf, self.max_features)"
      ],
      "execution_count": 0,
      "outputs": []
    },
    {
      "metadata": {
        "id": "98YhKp1cyjIU",
        "colab_type": "code",
        "colab": {}
      },
      "cell_type": "code",
      "source": [
        "def calc_std(n, s, s2): return np.sqrt(s2/n - (s/n)**2)\n",
        "\n",
        "class DecisionTree():\n",
        "  def __init__(self, x, y, min_leaf, max_features, idxs=None):\n",
        "    if idxs is None: idxs = np.arange(len(x))\n",
        "    self.x, self.y, self.idxs = x.reset_index(drop=True), y, idxs\n",
        "    self.min_leaf, self.max_features = min_leaf, max_features\n",
        "    self.n, self.c = len(idxs), x.shape[1]\n",
        "    self.val = self.y[idxs].mean()\n",
        "    self.score = float('inf')\n",
        "    self.find_split()\n",
        "  \n",
        "  def find_split(self):\n",
        "#     pdb.set_trace()\n",
        "    idxs = np.random.permutation(self.c)[:int(self.c * self.max_features)]\n",
        "    for c in idxs:\n",
        "      self.find_better_split(c)\n",
        "    if not self.is_leaf:\n",
        "      x = self.x.iloc[:, self.var_idx].values\n",
        "      l_idxs = np.nonzero(x > self.split_val)[0]\n",
        "      r_idxs = np.nonzero(x <= self.split_val)[0]\n",
        "      self.lb = DecisionTree(self.x.iloc[l_idxs], self.y[l_idxs], self.min_leaf, self.max_features)\n",
        "      self.rb = DecisionTree(self.x.iloc[r_idxs], self.y[r_idxs], self.min_leaf, self.max_features)\n",
        "\n",
        "  def find_better_split(self, var_idx):\n",
        "#     pdb.set_trace()\n",
        "    x, y = self.x.iloc[self.idxs, var_idx].values, self.y[self.idxs]\n",
        "    idxs = np.argsort(x)\n",
        "    x_sorted, y_sorted = x[idxs], y[idxs]\n",
        "    r_cnt, r_s, r_s2 = len(x_sorted), y_sorted.sum(), (y_sorted**2).sum()\n",
        "    l_cnt, l_s, l_s2 = 0., 0., 0.\n",
        "\n",
        "    for i in range(self.n - self.min_leaf):\n",
        "      l_cnt += 1; r_cnt -= 1\n",
        "      l_s += y_sorted[i]; r_s -= y_sorted[i]\n",
        "      l_s2 += y_sorted[i]**2; r_s2 -= y_sorted[i]**2\n",
        "      if x_sorted[i] == x_sorted[i + 1]: continue\n",
        "\n",
        "      l_std = calc_std(l_cnt, l_s, l_s2)\n",
        "      r_std = calc_std(r_cnt, r_s, r_s2)\n",
        "      score = l_cnt * l_std + r_cnt * r_std\n",
        "      if score < self.score:\n",
        "        self.score, self.var_idx, self.split_val = score, var_idx, x_sorted[i]\n",
        "  \n",
        "  def predict(self, x):\n",
        "    return [self.predict_row(xi[1]) for xi in x.iterrows()]\n",
        "\n",
        "  def predict_row(self, xi):\n",
        "    if self.is_leaf: return self.val\n",
        "    t = self.rb if xi[self.var_idx] <= self.split_val else self.lb\n",
        "    return t.predict_row(xi)\n",
        "\n",
        "  @property\n",
        "  def split_var(self): return self.x.columns[self.var_idx]\n",
        "  \n",
        "  @property\n",
        "  def is_leaf(self): return self.score == float('inf')\n",
        "  \n",
        "  def __repr__(self):\n",
        "    txt = f'samples: {self.n}, value: {self.val}, score: {self.score}, '\n",
        "    if not self.is_leaf:\n",
        "      txt += f'split variable: {self.split_var}, split value: {self.split_val}'\n",
        "    return txt"
      ],
      "execution_count": 0,
      "outputs": []
    },
    {
      "metadata": {
        "id": "yyYK7MSbuyN0",
        "colab_type": "code",
        "outputId": "b4d8b80b-8851-4297-edee-d8aea6a935d1",
        "colab": {
          "base_uri": "https://localhost:8080/",
          "height": 34
        }
      },
      "cell_type": "code",
      "source": [
        "t = RandomForest(trn_x, trn_y, 1, min_leaf=5, max_features=0.5).trees[0]\n",
        "t"
      ],
      "execution_count": 0,
      "outputs": [
        {
          "output_type": "execute_result",
          "data": {
            "text/plain": [
              "samples: 1000, value: 12.029458473021721, score: 326.4157389254301, split variable: GrLivArea, split value: 1478"
            ]
          },
          "metadata": {
            "tags": []
          },
          "execution_count": 217
        }
      ]
    },
    {
      "metadata": {
        "id": "z_FUZPovUKPh",
        "colab_type": "code",
        "colab": {}
      },
      "cell_type": "code",
      "source": [
        "def predict(self, x):\n",
        "  return np.mean([t.predict(x) for t in self.trees], 0)\n",
        "\n",
        "RandomForest.predict = predict"
      ],
      "execution_count": 0,
      "outputs": []
    },
    {
      "metadata": {
        "id": "PdAWplHnUKR6",
        "colab_type": "code",
        "outputId": "dcab8376-21ee-48d4-956f-433377fcd0c9",
        "colab": {
          "base_uri": "https://localhost:8080/",
          "height": 101
        }
      },
      "cell_type": "code",
      "source": [
        "%time rf = RandomForest(trn_x, trn_y, 10, min_leaf=5, max_features=0.5)\n",
        "metrics.r2_score(rf.predict(val_x), val_y)"
      ],
      "execution_count": 0,
      "outputs": [
        {
          "output_type": "stream",
          "text": [
            "/usr/local/lib/python3.6/dist-packages/ipykernel_launcher.py:1: RuntimeWarning: invalid value encountered in sqrt\n",
            "  \"\"\"Entry point for launching an IPython kernel.\n"
          ],
          "name": "stderr"
        },
        {
          "output_type": "stream",
          "text": [
            "CPU times: user 1min 12s, sys: 88.9 ms, total: 1min 12s\n",
            "Wall time: 1min 12s\n"
          ],
          "name": "stdout"
        },
        {
          "output_type": "execute_result",
          "data": {
            "text/plain": [
              "0.82009504515188"
            ]
          },
          "metadata": {
            "tags": []
          },
          "execution_count": 220
        }
      ]
    },
    {
      "metadata": {
        "id": "WjHO2wTobE8A",
        "colab_type": "code",
        "outputId": "b6478ab3-65af-46af-e8b3-99aa62def722",
        "colab": {
          "base_uri": "https://localhost:8080/",
          "height": 67
        }
      },
      "cell_type": "code",
      "source": [
        "m = RandomForestRegressor(n_estimators=10, n_jobs=-1, min_samples_leaf=5, max_features=0.5, bootstrap=False)\n",
        "%time m.fit(trn_x, trn_y)\n",
        "metrics.r2_score(m.predict(val_x), val_y)"
      ],
      "execution_count": 0,
      "outputs": [
        {
          "output_type": "stream",
          "text": [
            "CPU times: user 107 ms, sys: 2.99 ms, total: 110 ms\n",
            "Wall time: 112 ms\n"
          ],
          "name": "stdout"
        },
        {
          "output_type": "execute_result",
          "data": {
            "text/plain": [
              "0.8227169670496637"
            ]
          },
          "metadata": {
            "tags": []
          },
          "execution_count": 221
        }
      ]
    },
    {
      "metadata": {
        "id": "gLggol9hbE-5",
        "colab_type": "code",
        "outputId": "53ce8b31-a957-40a1-e435-24f77d18e453",
        "colab": {
          "base_uri": "https://localhost:8080/",
          "height": 101
        }
      },
      "cell_type": "code",
      "source": [
        "%time rf = RandomForest(trn_x, trn_y, 20, min_leaf=2, max_features=0.5, sample_sz=800)\n",
        "metrics.r2_score(rf.predict(val_x), val_y)"
      ],
      "execution_count": 0,
      "outputs": [
        {
          "output_type": "stream",
          "text": [
            "/usr/local/lib/python3.6/dist-packages/ipykernel_launcher.py:1: RuntimeWarning: invalid value encountered in sqrt\n",
            "  \"\"\"Entry point for launching an IPython kernel.\n"
          ],
          "name": "stderr"
        },
        {
          "output_type": "stream",
          "text": [
            "CPU times: user 3min 21s, sys: 388 ms, total: 3min 22s\n",
            "Wall time: 3min 22s\n"
          ],
          "name": "stdout"
        },
        {
          "output_type": "execute_result",
          "data": {
            "text/plain": [
              "0.8489631454261701"
            ]
          },
          "metadata": {
            "tags": []
          },
          "execution_count": 231
        }
      ]
    },
    {
      "metadata": {
        "id": "ue0J5eGT8hgh",
        "colab_type": "code",
        "outputId": "49ea0031-8c14-4bf6-8b94-79a57d542388",
        "colab": {
          "base_uri": "https://localhost:8080/",
          "height": 67
        }
      },
      "cell_type": "code",
      "source": [
        "m = RandomForestRegressor(n_estimators=20, n_jobs=1, min_samples_leaf=2, max_features=0.5)\n",
        "%time m.fit(trn_x, trn_y)\n",
        "metrics.r2_score(m.predict(val_x), val_y)"
      ],
      "execution_count": 0,
      "outputs": [
        {
          "output_type": "stream",
          "text": [
            "CPU times: user 138 ms, sys: 1.99 ms, total: 140 ms\n",
            "Wall time: 140 ms\n"
          ],
          "name": "stdout"
        },
        {
          "output_type": "execute_result",
          "data": {
            "text/plain": [
              "0.8454547075884457"
            ]
          },
          "metadata": {
            "tags": []
          },
          "execution_count": 241
        }
      ]
    },
    {
      "metadata": {
        "id": "dIZC2cPZATB6",
        "colab_type": "text"
      },
      "cell_type": "markdown",
      "source": [
        "## Speed Up: Cython"
      ]
    },
    {
      "metadata": {
        "id": "Sl7rSsHqBg30",
        "colab_type": "code",
        "outputId": "bf84c7d7-7666-4950-a70c-c95514a7300c",
        "colab": {
          "base_uri": "https://localhost:8080/",
          "height": 50
        }
      },
      "cell_type": "code",
      "source": [
        "%load_ext Cython"
      ],
      "execution_count": 0,
      "outputs": [
        {
          "output_type": "stream",
          "text": [
            "The Cython extension is already loaded. To reload it, use:\n",
            "  %reload_ext Cython\n"
          ],
          "name": "stdout"
        }
      ]
    },
    {
      "metadata": {
        "id": "fK1eYC6h9GF8",
        "colab_type": "code",
        "colab": {}
      },
      "cell_type": "code",
      "source": [
        "def foo1(n):\n",
        "  a, b = 0, 1\n",
        "  while b < n:\n",
        "    a = b\n",
        "    b = a + b"
      ],
      "execution_count": 0,
      "outputs": []
    },
    {
      "metadata": {
        "id": "uJj0nQTKAaB-",
        "colab_type": "code",
        "colab": {}
      },
      "cell_type": "code",
      "source": [
        "%%cython\n",
        "def foo2(n):\n",
        "  a, b = 0, 1\n",
        "  while b < n:\n",
        "    a = b\n",
        "    b = a + b"
      ],
      "execution_count": 0,
      "outputs": []
    },
    {
      "metadata": {
        "id": "zMli0cCOAaE6",
        "colab_type": "code",
        "colab": {}
      },
      "cell_type": "code",
      "source": [
        "%%cython\n",
        "def foo3(int n):\n",
        "  cdef int a = 0\n",
        "  cdef int b = 1\n",
        "  cdef int tmp = 0\n",
        "  while b < n:\n",
        "    tmp = a\n",
        "    a = b\n",
        "    b = tmp + b"
      ],
      "execution_count": 0,
      "outputs": []
    },
    {
      "metadata": {
        "id": "dQ2uPljNAaH0",
        "colab_type": "code",
        "outputId": "55c82311-1927-4e66-9e6b-31b898c95b00",
        "colab": {
          "base_uri": "https://localhost:8080/",
          "height": 34
        }
      },
      "cell_type": "code",
      "source": [
        "%timeit foo1(50)"
      ],
      "execution_count": 0,
      "outputs": [
        {
          "output_type": "stream",
          "text": [
            "1000000 loops, best of 3: 625 ns per loop\n"
          ],
          "name": "stdout"
        }
      ]
    },
    {
      "metadata": {
        "id": "1MdYnLdcAaKM",
        "colab_type": "code",
        "outputId": "79c6d54c-fe7c-495a-cad6-63e875a009a4",
        "colab": {
          "base_uri": "https://localhost:8080/",
          "height": 50
        }
      },
      "cell_type": "code",
      "source": [
        "%timeit foo2(50)"
      ],
      "execution_count": 0,
      "outputs": [
        {
          "output_type": "stream",
          "text": [
            "The slowest run took 16.47 times longer than the fastest. This could mean that an intermediate result is being cached.\n",
            "10000000 loops, best of 3: 188 ns per loop\n"
          ],
          "name": "stdout"
        }
      ]
    },
    {
      "metadata": {
        "id": "g-MbRR0eEYT0",
        "colab_type": "code",
        "outputId": "cc310be6-3da5-455d-dfae-26348442c23f",
        "colab": {
          "base_uri": "https://localhost:8080/",
          "height": 50
        }
      },
      "cell_type": "code",
      "source": [
        "%timeit foo3(50)"
      ],
      "execution_count": 0,
      "outputs": [
        {
          "output_type": "stream",
          "text": [
            "The slowest run took 35.49 times longer than the fastest. This could mean that an intermediate result is being cached.\n",
            "10000000 loops, best of 3: 58.6 ns per loop\n"
          ],
          "name": "stdout"
        }
      ]
    },
    {
      "metadata": {
        "id": "ODt6cmwTrX5s",
        "colab_type": "text"
      },
      "cell_type": "markdown",
      "source": [
        "## Final"
      ]
    },
    {
      "metadata": {
        "id": "08s3c3DfrZFg",
        "colab_type": "code",
        "colab": {}
      },
      "cell_type": "code",
      "source": [
        "def calc_std(n, s, s2): return np.sqrt(s2/n - (s/n)**2)\n",
        "\n",
        "\n",
        "class RandomForest():\n",
        "  def __init__(self, x, y, nr_trees, sample_sz=1000, min_leaf=2, max_features=1.):\n",
        "    self.x, self.y, self.nr_trees, self.sample_sz = x, y, nr_trees, sample_sz\n",
        "    self.min_leaf, self.max_features = min_leaf, max_features\n",
        "    self.trees = [self.create_tree() for _ in range(nr_trees)]\n",
        "  \n",
        "  def create_tree(self):\n",
        "    idxs = np.random.permutation(len(self.x))[:self.sample_sz]\n",
        "    return DecisionTree(self.x.iloc[idxs], self.y[idxs], self.min_leaf, self.max_features)\n",
        "\n",
        "  def predict(self, x):\n",
        "    return np.mean([t.predict(x) for t in self.trees], 0)\n",
        "\n",
        "\n",
        "class DecisionTree():\n",
        "  def __init__(self, x, y, min_leaf, max_features, idxs=None):\n",
        "    if idxs is None: idxs = np.arange(len(x))\n",
        "    self.x, self.y, self.idxs = x.reset_index(drop=True), y, idxs\n",
        "    self.min_leaf, self.max_features = min_leaf, max_features\n",
        "    self.n, self.c = len(idxs), x.shape[1]\n",
        "    self.val = self.y[idxs].mean()\n",
        "    self.score = float('inf')\n",
        "    self.find_split()\n",
        "  \n",
        "  def find_split(self):\n",
        "#     pdb.set_trace()\n",
        "    idxs = np.random.permutation(self.c)[:int(self.c * self.max_features)]\n",
        "    for c in idxs:\n",
        "      self.find_better_split(c)\n",
        "    if not self.is_leaf:\n",
        "      x = self.x.iloc[:, self.var_idx].values\n",
        "      l_idxs = np.nonzero(x > self.split_val)[0]\n",
        "      r_idxs = np.nonzero(x <= self.split_val)[0]\n",
        "      self.lb = DecisionTree(self.x.iloc[l_idxs], self.y[l_idxs], self.min_leaf, self.max_features)\n",
        "      self.rb = DecisionTree(self.x.iloc[r_idxs], self.y[r_idxs], self.min_leaf, self.max_features)\n",
        "\n",
        "  def find_better_split(self, var_idx):\n",
        "#     pdb.set_trace()\n",
        "    x, y = self.x.iloc[self.idxs, var_idx].values, self.y[self.idxs]\n",
        "    idxs = np.argsort(x)\n",
        "    x_sorted, y_sorted = x[idxs], y[idxs]\n",
        "    r_cnt, r_s, r_s2 = len(x_sorted), y_sorted.sum(), (y_sorted**2).sum()\n",
        "    l_cnt, l_s, l_s2 = 0., 0., 0.\n",
        "\n",
        "    for i in range(self.n - self.min_leaf):\n",
        "      l_cnt += 1; r_cnt -= 1\n",
        "      l_s += y_sorted[i]; r_s -= y_sorted[i]\n",
        "      l_s2 += y_sorted[i]**2; r_s2 -= y_sorted[i]**2\n",
        "      if x_sorted[i] == x_sorted[i + 1]: continue\n",
        "\n",
        "      l_std = calc_std(l_cnt, l_s, l_s2)\n",
        "      r_std = calc_std(r_cnt, r_s, r_s2)\n",
        "      score = l_cnt * l_std + r_cnt * r_std\n",
        "      if score < self.score:\n",
        "        self.score, self.var_idx, self.split_val = score, var_idx, x_sorted[i]\n",
        "  \n",
        "  def predict(self, x):\n",
        "    return [self.predict_row(xi[1]) for xi in x.iterrows()]\n",
        "\n",
        "  def predict_row(self, xi):\n",
        "    if self.is_leaf: return self.val\n",
        "    t = self.rb if xi[self.var_idx] <= self.split_val else self.lb\n",
        "    return t.predict_row(xi)\n",
        "\n",
        "  @property\n",
        "  def split_var(self): return self.x.columns[self.var_idx]\n",
        "  \n",
        "  @property\n",
        "  def is_leaf(self): return self.score == float('inf')\n",
        "  \n",
        "  def __repr__(self):\n",
        "    txt = f'samples: {self.n}, value: {self.val}, score: {self.score}, '\n",
        "    if not self.is_leaf:\n",
        "      txt += f'split variable: {self.split_var}, split value: {self.split_val}'\n",
        "    return txt"
      ],
      "execution_count": 0,
      "outputs": []
    },
    {
      "metadata": {
        "id": "c3FVVGafs2YO",
        "colab_type": "code",
        "colab": {}
      },
      "cell_type": "code",
      "source": [
        ""
      ],
      "execution_count": 0,
      "outputs": []
    }
  ]
}